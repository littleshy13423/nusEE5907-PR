{
 "cells": [
  {
   "cell_type": "code",
   "execution_count": 1,
   "metadata": {},
   "outputs": [
    {
     "name": "stdout",
     "output_type": "stream",
     "text": [
      "[6, 20, 22, 16, 63, 52, 48, 53, 1, 18, 9, 17, 41, 24, 35, 40, 45, 36, 30, 15, 47, 2, 66, 10, 7]\n"
     ]
    }
   ],
   "source": [
    "import random\n",
    "\n",
    "random_numbers = random.sample(range(1, 69), 25)\n",
    "print(random_numbers)"
   ]
  },
  {
   "cell_type": "code",
   "execution_count": 10,
   "metadata": {},
   "outputs": [
    {
     "name": "stdout",
     "output_type": "stream",
     "text": [
      "(4260, 1024)\n"
     ]
    }
   ],
   "source": [
    "import random\n",
    "import os\n",
    "import numpy as np\n",
    "import matplotlib.pyplot as plt\n",
    "import os\n",
    "\n",
    "random_numbers = [6, 20, 22, 16, 63, 52, 48, 53, 1, 18, 9, 17, 41, 24, 35, 40, 45, 36, 30, 15, 47, 2, 66, 10, 7]\n",
    "\n",
    "# 数据文件夹的路径\n",
    "data_dir = \"PIE\"  # 请替换成包含所有子文件夹的实际路径\n",
    "\n",
    "my_data_dir = \"0I_bw\"  # 您自己的数据文件夹\n",
    "\n",
    "# 用于存储所选的文件夹\n",
    "selected_folders = []\n",
    "\n",
    "# 遍历数据文件夹，选择与随机数字相对应的文件夹\n",
    "for folder_name in os.listdir(data_dir):\n",
    "    if int(folder_name) in random_numbers:\n",
    "        selected_folders.append(folder_name)\n",
    "\n",
    "# 加载数据\n",
    "data = []\n",
    "labels = []\n",
    "\n",
    "for folder_name in selected_folders:\n",
    "    folder_path = os.path.join(data_dir, folder_name)\n",
    "    label = int(folder_name)\n",
    "\n",
    "    image_files = os.listdir(folder_path)\n",
    "    random.shuffle(image_files)\n",
    "\n",
    "    for image_filename in image_files[:]:\n",
    "        image_path = os.path.join(folder_path, image_filename)\n",
    "        data.append(image_path)\n",
    "        labels.append(label)\n",
    "\n",
    "# 从0I_bw文件夹中加载数据\n",
    "my_data = []\n",
    "my_labels = []\n",
    "\n",
    "my_image_files = os.listdir(my_data_dir)\n",
    "random.shuffle(my_image_files)\n",
    "\n",
    "for image_filename in my_image_files[:]:\n",
    "    image_path = os.path.join(my_data_dir, image_filename)\n",
    "    my_data.append(image_path)\n",
    "    my_labels.append(0)\n",
    "\n",
    "# 合并数据和标签\n",
    "data += my_data\n",
    "labels += my_labels\n",
    "\n",
    "# 向量化图像数据\n",
    "images = [plt.imread(image_path) for image_path in data]\n",
    "X = np.array(images).reshape(len(images), -1)\n",
    "\n",
    "print(X.shape)"
   ]
  },
  {
   "cell_type": "code",
   "execution_count": 11,
   "metadata": {},
   "outputs": [],
   "source": [
    "# 向量化图像数据\n",
    "images = [plt.imread(image_path) for image_path in data]\n",
    "X = np.array(images).reshape(len(images), -1)\n",
    "\n",
    "# PCA函数\n",
    "def My_PCA(X, n_components):\n",
    "    # 计算协方差矩阵\n",
    "    mean = np.mean(X, axis=0)\n",
    "    X = X - mean\n",
    "    covariance_matrix = np.cov(X.T)\n",
    "\n",
    "    # 获取特征值，和特征向量\n",
    "    eigenvalues, eigenvectors = np.linalg.eigh(covariance_matrix)\n",
    "    \n",
    "    # 对特征值进行排序\n",
    "    sorted_indices = np.argsort(eigenvalues)[::-1]\n",
    "    eigenvalues = eigenvalues[sorted_indices]\n",
    "    eigenvectors = eigenvectors[:, sorted_indices]\n",
    "    \n",
    "    top_n_eigenvectors = eigenvectors[:, :n_components]\n",
    "    \n",
    "    X_pca = X @ top_n_eigenvectors\n",
    "    return X_pca, top_n_eigenvectors\n",
    "\n",
    "# 应用PCA降维\n",
    "X_80d, _ = My_PCA(X, n_components=80)\n",
    "X_200d, _ = My_PCA(X, n_components=200)"
   ]
  },
  {
   "cell_type": "code",
   "execution_count": 12,
   "metadata": {},
   "outputs": [
    {
     "name": "stdout",
     "output_type": "stream",
     "text": [
      "C =  0.01\n",
      "Accuracy = 99.061% (1266/1278) (classification)\n",
      "Myaccuracy: 0.667 in the case of dimension 80\n",
      "C =  0.1\n",
      "Accuracy = 99.061% (1266/1278) (classification)\n",
      "Myaccuracy: 0.667 in the case of dimension 80\n",
      "C =  1\n",
      "Accuracy = 99.061% (1266/1278) (classification)\n",
      "Myaccuracy: 0.667 in the case of dimension 80\n",
      "C =  0.01\n",
      "Accuracy = 99.1393% (1267/1278) (classification)\n",
      "Myaccuracy: 0.667 in the case of dimension 200\n",
      "C =  0.1\n",
      "Accuracy = 99.1393% (1267/1278) (classification)\n",
      "Myaccuracy: 0.667 in the case of dimension 200\n",
      "C =  1\n",
      "Accuracy = 99.1393% (1267/1278) (classification)\n",
      "Myaccuracy: 0.667 in the case of dimension 200\n"
     ]
    }
   ],
   "source": [
    "from sklearn.model_selection import *\n",
    "from libsvm.svmutil import *\n",
    "from sklearn.metrics import accuracy_score\n",
    "\n",
    "C = [0.01, 0.1, 1] # penalty parameter\n",
    "for c in C:\n",
    "    print('C = ', c)\n",
    "    # 设置SVM参数\n",
    "    param = '-t 0 -c ' + str(c)  # 选择线性内核（-t 0）和C参数\n",
    "    X_train, X_test, y_train, y_test = train_test_split(X_80d, labels, test_size=0.3, random_state=42, stratify=labels)\n",
    "\n",
    "    # 训练SVM模型\n",
    "    model = svm_train(y_train, X_train, param)\n",
    "\n",
    "    # 预测测试数据\n",
    "    p_labels, p_acc, p_vals = svm_predict(y_test, X_test, model)\n",
    "\n",
    "    # 计算特定标签的准确率\n",
    "    target_label = 0  # 你要计算准确率的特定标签\n",
    "    target_indices = [i for i, label in enumerate(y_test) if label == target_label]\n",
    "    target_true_labels = [y_test[i] for i in target_indices]\n",
    "    target_pred_labels = [p_labels[i] for i in target_indices]\n",
    "\n",
    "    my_accuracy = accuracy_score(target_true_labels, target_pred_labels)\n",
    "\n",
    "    print(f\"Myaccuracy: {my_accuracy:.3f} in the case of dimension {80}\")\n",
    "    \n",
    "for c in C:\n",
    "    print('C = ', c)\n",
    "    # 设置SVM参数\n",
    "    param = '-t 0 -c ' + str(c)  # 选择线性内核（-t 0）和C参数\n",
    "    X_train, X_test, y_train, y_test = train_test_split(X_200d, labels, test_size=0.3, random_state=42, stratify=labels)\n",
    "\n",
    "    # 训练SVM模型\n",
    "    model = svm_train(y_train, X_train, param)\n",
    "\n",
    "    # 预测测试数据\n",
    "    p_labels, p_acc, p_vals = svm_predict(y_test, X_test, model)\n",
    "\n",
    "    # 计算特定标签的准确率\n",
    "    target_label = 0  # 你要计算准确率的特定标签\n",
    "    target_indices = [i for i, label in enumerate(y_test) if label == target_label]\n",
    "    target_true_labels = [y_test[i] for i in target_indices]\n",
    "    target_pred_labels = [p_labels[i] for i in target_indices]\n",
    "\n",
    "    my_accuracy = accuracy_score(target_true_labels, target_pred_labels)\n",
    "\n",
    "    print(f\"Myaccuracy: {my_accuracy:.3f} in the case of dimension {200}\")"
   ]
  }
 ],
 "metadata": {
  "kernelspec": {
   "display_name": "Python 3",
   "language": "python",
   "name": "python3"
  },
  "language_info": {
   "codemirror_mode": {
    "name": "ipython",
    "version": 3
   },
   "file_extension": ".py",
   "mimetype": "text/x-python",
   "name": "python",
   "nbconvert_exporter": "python",
   "pygments_lexer": "ipython3",
   "version": "3.11.4"
  }
 },
 "nbformat": 4,
 "nbformat_minor": 2
}
