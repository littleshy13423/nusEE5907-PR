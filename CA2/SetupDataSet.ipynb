{
 "cells": [
  {
   "cell_type": "code",
   "execution_count": 1,
   "metadata": {},
   "outputs": [
    {
     "name": "stdout",
     "output_type": "stream",
     "text": [
      "[30, 26, 28, 42, 17, 6, 66, 59, 25, 12, 19, 36, 64, 53, 5, 32, 67, 29, 2, 61, 35, 48, 43, 37, 22]\n"
     ]
    }
   ],
   "source": [
    "import random\n",
    "\n",
    "random_numbers = random.sample(range(1, 69), 25)\n",
    "print(random_numbers)"
   ]
  },
  {
   "cell_type": "code",
   "execution_count": 2,
   "metadata": {},
   "outputs": [],
   "source": [
    "random_numbers = [30, 26, 28, 42, 17, 6, 66, 59, 25, 12, 19, 36, 64, 53, 5, 32, 67, 29, 2, 61, 35, 48, 43, 37, 22]\n",
    "\n",
    "import os\n",
    "from sklearn.model_selection import train_test_split\n",
    "\n",
    "# 1. 加载数据\n",
    "data_dir = \"PIE\"  # 数据文件夹的路径\n",
    "\n",
    "# 用于存储所选的文件夹\n",
    "selected_folders = []\n",
    "\n",
    "# 遍历数据文件夹\n",
    "for folder_name in os.listdir(data_dir):\n",
    "    if int(folder_name) in random_numbers:\n",
    "        selected_folders.append(folder_name)\n",
    "\n",
    "# 创建数据集\n",
    "data = []\n",
    "labels = []\n",
    "\n",
    "for folder_name in selected_folders:\n",
    "    folder_path = os.path.join(data_dir, folder_name)\n",
    "    label = int(folder_name)  # 标签就是文件夹的名称\n",
    "\n",
    "    for filename in os.listdir(folder_path):\n",
    "        image_path = os.path.join(folder_path, filename)\n",
    "        data.append(image_path)\n",
    "        labels.append(label)\n",
    "\n",
    "# 划分数据集\n",
    "X_train, X_test, y_train, y_test = train_test_split(data, labels, test_size=0.3, random_state=42)\n",
    "# X_train 和 y_train 包含用于训练的图像路径和对应的标签\n",
    "# X_test 和 y_test 包含用于测试的图像路径和对应的标签"
   ]
  }
 ],
 "metadata": {
  "kernelspec": {
   "display_name": "Python 3",
   "language": "python",
   "name": "python3"
  },
  "language_info": {
   "codemirror_mode": {
    "name": "ipython",
    "version": 3
   },
   "file_extension": ".py",
   "mimetype": "text/x-python",
   "name": "python",
   "nbconvert_exporter": "python",
   "pygments_lexer": "ipython3",
   "version": "3.11.4"
  }
 },
 "nbformat": 4,
 "nbformat_minor": 5
}
